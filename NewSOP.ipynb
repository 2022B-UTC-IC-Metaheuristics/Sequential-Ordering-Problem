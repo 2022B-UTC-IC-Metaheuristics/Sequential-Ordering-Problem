{
  "nbformat": 4,
  "nbformat_minor": 0,
  "metadata": {
    "colab": {
      "provenance": []
    },
    "kernelspec": {
      "name": "python3",
      "display_name": "Python 3"
    },
    "language_info": {
      "name": "python"
    }
  },
  "cells": [
    {
      "cell_type": "markdown",
      "source": [
        "vamos a empezar de nuevo con lo del sop para ver si sale"
      ],
      "metadata": {
        "id": "-9ULPqKIEwl3"
      }
    },
    {
      "cell_type": "code",
      "execution_count": null,
      "metadata": {
        "id": "jDvo8D4zEs2m"
      },
      "outputs": [],
      "source": [
        "import numpy as np\n",
        "import random \n",
        "import csv\n",
        "from operator import itemgetter"
      ]
    },
    {
      "cell_type": "code",
      "source": [
        "#funcion para obtener el costo\n",
        "\n",
        "def obtenerCosto (solucion, costos, reglas):\n",
        "  #obtener el total de nodos -1 (no es necesario revisar el ultimo nodo)\n",
        "  nodos = len(solucion) -1\n",
        "\n",
        "  #se obtine el costo máximode la tabla\n",
        "  costoMax = max (max(fila) for fila in a)\n",
        "  costoTotal = 0\n",
        "\n",
        "  #se suman los costos C de la solución\n",
        "  for i in range(nodos):\n",
        "    costoTotal += costos[solucion[i]][solucion[i+1]]\n",
        "  n =  presedencia(solucion, reglas)\n",
        "  costoTotal += n* costoMax  "
      ],
      "metadata": {
        "id": "0_QsS7CXE4o5"
      },
      "execution_count": null,
      "outputs": []
    },
    {
      "cell_type": "code",
      "source": [
        "def presedencia(solucion, rules):\n",
        "  #tiene que variar estos arreglos dependiendo de la cantidad de reglas\n",
        "  auxB = np.zeros(len(rules))\n",
        "  cont = 0\n",
        "\n",
        "  for i in range (len(solucion)):\n",
        "    for j in range(len(rules)):\n",
        "      if rules[j][0] == solucion[i]:\n",
        "        auxB[j]+=1\n",
        "      if auxB[j]== 1:\n",
        "        if rules[j][1] == solucion[i]:\n",
        "          auxB[j]+=1\n",
        "  for i in range(len(auxB)):\n",
        "    if auxB[i] <2:\n",
        "      cont +=1\n",
        "  return cont"
      ],
      "metadata": {
        "id": "Ro2rHWv7FAAD"
      },
      "execution_count": null,
      "outputs": []
    },
    {
      "cell_type": "code",
      "source": [
        "def solucionInicial(numNodos,reglas):\n",
        "    solucionTemp = []\n",
        "    solucion = []\n",
        "    #generacion de numeros aleatorios con su indice para obtener la primera solucion\n",
        "    for i in range(numNodos-2):\n",
        "        solucionTemp.append([i+1,random.random()])\n",
        "    #Se reordenan para poder decidir en que orden visitar los nodos\n",
        "    solucionTemp.sort(key=itemgetter(1))\n",
        "    # El primero nodo debe ser siempre el cero\n",
        "    solucion.append(0)\n",
        "    #agregar los demas nodos\n",
        "    for i in list(solucionTemp):\n",
        "        solucion.append(i[0])\n",
        "    #El ultimo nodo debe ser numNodos-1\n",
        "    solucion.append(numNodos-1)\n",
        "    solucion = corregirPrecedencia(solucion[:],reglas,numNodos)\n",
        "    return solucion"
      ],
      "metadata": {
        "id": "b4QADTz_FKxJ"
      },
      "execution_count": null,
      "outputs": []
    },
    {
      "cell_type": "code",
      "source": [
        "def solucionVecino(solucion,reglas):\n",
        "    #generar las posiciones a cambiar\n",
        "    pos1 = random.randint(1,len(solucion)-2)\n",
        "    pos2 = random.randint(1,len(solucion)-2)\n",
        "    while (pos1 == pos2):\n",
        "        pos2 = random.randint(1,len(solucion)-2)\n",
        "    #print(pos1, ',', pos2)\n",
        "    #Relizamos el cambio de acuerdo a los indices \n",
        "    solucion[pos1],solucion[pos2] = solucion[pos2],solucion[pos1]\n",
        "    solucion = corregirPrecedencia(solucion[:],reglas,len(solucion))\n",
        "    return solucion"
      ],
      "metadata": {
        "id": "CYYWJPqjFQAh"
      },
      "execution_count": null,
      "outputs": []
    },
    {
      "cell_type": "code",
      "source": [
        "def corregirPrecedencia(solucion, reglas, numNodos):\n",
        "    # Se recorre la lista de reglas\n",
        "    for regla in reglas:\n",
        "        nodoA = regla[0]\n",
        "        nodoB = regla[1]\n",
        "\n",
        "        # Se busca la posición de los nodos en la solución actual\n",
        "        posA = solucion.index(nodoA)\n",
        "        posB = solucion.index(nodoB)\n",
        "\n",
        "        # Si la posición de B es menor que la de A, se intercambian los nodos\n",
        "        if posB < posA:\n",
        "            solucion[posA], solucion[posB] = solucion[posB], solucion[posA]\n",
        "\n",
        "    # Se verifica que la solución corregida contenga todos los nodos\n",
        "    assert set(solucion) == set(range(numNodos))\n",
        "\n",
        "    return solucion\n"
      ],
      "metadata": {
        "id": "p_IQJA0rF_1A"
      },
      "execution_count": null,
      "outputs": []
    },
    {
      "cell_type": "code",
      "source": [
        "def readFile(size, name):\n",
        "    m = np.zeros((0), dtype=int)\n",
        "    m_prec = np.zeros((0), dtype=int)\n",
        "    \n",
        "    with open(name, newline='') as File:  \n",
        "        reader = csv.reader(File, delimiter=',', quotechar=',',quoting=csv.QUOTE_MINIMAL)\n",
        "        i=0\n",
        "        for row in File:\n",
        "            \n",
        "            row = row.rstrip()\n",
        "            separador = \",\"\n",
        "            row = row.split(\",\")\n",
        "            row = list(map(int, row))\n",
        "            m_np = np.array(row)\n",
        "            \n",
        "            if i < size :\n",
        "                m = np.append(m, m_np, axis=0)\n",
        "                #print(m_np)\n",
        "            else:\n",
        "                m_prec = np.append(m_prec, m_np, axis=0)\n",
        "            i+=1\n",
        "    \n",
        "    m = np.array(m).reshape(size,size)\n",
        "    m_prec = np.array(m_prec).reshape(int((len(m_prec)/2)),2)\n",
        "    return m, m_prec"
      ],
      "metadata": {
        "id": "gop3dNOEFenH"
      },
      "execution_count": null,
      "outputs": []
    },
    {
      "cell_type": "code",
      "source": [
        "name = '100.txt'\n",
        "nodos = 100\n",
        "m, m_prec = readFile(nodos, name)\n",
        "\n",
        "print(f'{m}')\n"
      ],
      "metadata": {
        "colab": {
          "base_uri": "https://localhost:8080/"
        },
        "id": "-a-7wwvWHki_",
        "outputId": "ecd89d47-b0ec-463f-d29c-9914bf0d2b03"
      },
      "execution_count": null,
      "outputs": [
        {
          "output_type": "stream",
          "name": "stdout",
          "text": [
            "[[19  8 13 ...  2  2  4]\n",
            " [ 2  6  3 ... 10  8  6]\n",
            " [ 3 14 10 ... 20 13 11]\n",
            " ...\n",
            " [13 10 14 ... 18 19 20]\n",
            " [ 3 13 16 ...  0  0 18]\n",
            " [ 8  1  0 ...  4  0 12]]\n"
          ]
        }
      ]
    },
    {
      "cell_type": "code",
      "source": [
        "print(m_prec)"
      ],
      "metadata": {
        "colab": {
          "base_uri": "https://localhost:8080/"
        },
        "id": "SWXwMhmKM-Pi",
        "outputId": "776507c1-4a4c-4043-d016-4cdad0c10f2e"
      },
      "execution_count": null,
      "outputs": [
        {
          "output_type": "stream",
          "name": "stdout",
          "text": [
            "[[ 1  3]\n",
            " [ 1  4]\n",
            " [ 1 13]\n",
            " [ 8  7]\n",
            " [15 22]\n",
            " [48 49]]\n"
          ]
        }
      ]
    },
    {
      "cell_type": "markdown",
      "source": [
        "ES UNA SEPARACION PARA PROBAR LO DER RECOCIDO JEJEJEO"
      ],
      "metadata": {
        "id": "lHiP-FsTUDUr"
      }
    },
    {
      "cell_type": "code",
      "source": [],
      "metadata": {
        "id": "GiCZ-CJ9UC9E"
      },
      "execution_count": null,
      "outputs": []
    },
    {
      "cell_type": "code",
      "source": [
        "import random\n",
        "import math\n",
        "\n",
        "# Función para calcular la energía de una solución\n",
        "def calcularEnergia(solucion, costos):\n",
        "    energia = 0\n",
        "    for i in range(len(solucion) - 1):\n",
        "        energia += costos[solucion[i]][solucion[i + 1]]\n",
        "    return energia\n",
        "\n",
        "# Función de recocido simulado para el SOP\n",
        "def recocidoSimulado(numNodos, costos, reglas, T=10.0, T_min=0.0001, enfriamiento=0.99):\n",
        "    # Generar la solución inicial y corregir las precedencias\n",
        "    solucion_actual = solucionInicial(numNodos, reglas)\n",
        "    solucion_actual = corregirPrecedencia(solucion_actual, reglas, numNodos)\n",
        "    \n",
        "    # Calcular la energía de la solución inicial\n",
        "    energia_actual = calcularEnergia(solucion_actual, costos)\n",
        "\n",
        "    # Inicializar la mejor solución encontrada\n",
        "    mejor_solucion = solucion_actual.copy()\n",
        "    mejor_energia = energia_actual\n",
        "\n",
        "    # Iniciar el recocido simulado\n",
        "    while T > T_min:\n",
        "        # Generar una solución vecina\n",
        "        vecino = solucion_actual.copy()\n",
        "        idx = random.sample(range(1, numNodos - 1), 2)\n",
        "        vecino[idx[0]], vecino[idx[1]] = vecino[idx[1]], vecino[idx[0]]\n",
        "        vecino = corregirPrecedencia(vecino, reglas, numNodos)\n",
        "\n",
        "        # Calcular la energía del vecino\n",
        "        energia_vecino = calcularEnergia(vecino, costos)\n",
        "\n",
        "        # Si la energía del vecino es mejor, se actualiza la solución actual\n",
        "        if energia_vecino < energia_actual:\n",
        "            solucion_actual = vecino\n",
        "            energia_actual = energia_vecino\n",
        "\n",
        "            # Si la solución actual es mejor que la mejor solución, se actualiza la mejor solución\n",
        "            if energia_actual < mejor_energia:\n",
        "                mejor_solucion = solucion_actual.copy()\n",
        "                mejor_energia = energia_actual\n",
        "\n",
        "        # Si la energía del vecino es peor, se acepta con una probabilidad determinada\n",
        "        else:\n",
        "            delta_energia = energia_vecino - energia_actual\n",
        "            probabilidad_aceptar = math.exp(-delta_energia / T)\n",
        "            if random.random() < probabilidad_aceptar:\n",
        "                solucion_actual = vecino\n",
        "\n",
        "        # Enfriar la temperatura\n",
        "        T *= enfriamiento\n",
        "\n",
        "    # Devolver la mejor solución encontrada\n",
        "    return mejor_solucion, mejor_energia\n"
      ],
      "metadata": {
        "id": "AI0nELa8NChn"
      },
      "execution_count": null,
      "outputs": []
    },
    {
      "cell_type": "code",
      "source": [
        "best_solution, best_combo = recocidoSimulado(numNodos= 100, costos = m, reglas = m_prec)\n",
        "\n",
        "print(f'best solution {best_combo} with best combination {best_solution}')"
      ],
      "metadata": {
        "colab": {
          "base_uri": "https://localhost:8080/"
        },
        "id": "-BJFKI8yUSDQ",
        "outputId": "f641c1d2-ec1b-403d-c500-fbaba2135415"
      },
      "execution_count": null,
      "outputs": [
        {
          "output_type": "stream",
          "name": "stdout",
          "text": [
            "best solution 316 with best combination [0, 81, 18, 60, 15, 23, 22, 26, 44, 41, 21, 24, 83, 92, 95, 52, 2, 74, 25, 94, 38, 1, 75, 36, 61, 8, 91, 42, 28, 71, 32, 34, 62, 59, 13, 66, 67, 7, 80, 50, 4, 43, 63, 33, 88, 76, 93, 45, 57, 6, 27, 87, 84, 78, 29, 3, 51, 55, 70, 37, 89, 47, 56, 72, 16, 77, 48, 54, 14, 96, 12, 53, 58, 86, 11, 82, 31, 5, 20, 73, 90, 39, 79, 46, 9, 65, 64, 10, 17, 69, 40, 68, 30, 19, 98, 49, 85, 97, 35, 99]\n"
          ]
        }
      ]
    },
    {
      "cell_type": "markdown",
      "source": [],
      "metadata": {
        "id": "BxYjPsyxEve2"
      }
    }
  ]
}