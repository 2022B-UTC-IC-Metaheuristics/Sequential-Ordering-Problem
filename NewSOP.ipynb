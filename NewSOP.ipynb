{
  "nbformat": 4,
  "nbformat_minor": 0,
  "metadata": {
    "colab": {
      "provenance": []
    },
    "kernelspec": {
      "name": "python3",
      "display_name": "Python 3"
    },
    "language_info": {
      "name": "python"
    }
  },
  "cells": [
    {
      "cell_type": "markdown",
      "source": [
        "vamos a empezar de nuevo con lo del sop para ver si sale"
      ],
      "metadata": {
        "id": "-9ULPqKIEwl3"
      }
    },
    {
      "cell_type": "code",
      "execution_count": null,
      "metadata": {
        "id": "jDvo8D4zEs2m"
      },
      "outputs": [],
      "source": [
        "import numpy as np\n",
        "import random \n",
        "import csv\n",
        "from operator import itemgetter"
      ]
    },
    {
      "cell_type": "code",
      "source": [
        "#funcion para obtener el costo\n",
        "\n",
        "def obtenerCosto (solucion, costos, reglas):\n",
        "  #obtener el total de nodos -1 (no es necesario revisar el ultimo nodo)\n",
        "  nodos = len(solucion) -1\n",
        "\n",
        "  #se obtine el costo máximo de la tabla\n",
        "  costoMax = max (max(fila) for fila in costos)\n",
        "  costoTotal = 0\n",
        "\n",
        "  #se suman los costos C de la solución\n",
        "  for i in range(nodos):\n",
        "    costoTotal += costos[solucion[i]][solucion[i+1]]\n",
        "  n =  presedencia(solucion, reglas)\n",
        "  costoTotal += n* costoMax  \n",
        "  return costoTotal"
      ],
      "metadata": {
        "id": "0_QsS7CXE4o5"
      },
      "execution_count": null,
      "outputs": []
    },
    {
      "cell_type": "code",
      "source": [
        "def presedencia(solucion, rules):\n",
        "  #tiene que variar estos arreglos dependiendo de la cantidad de reglas\n",
        "  auxB = np.zeros(len(rules))\n",
        "  cont = 0\n",
        "\n",
        "  for i in range (len(solucion)):\n",
        "    for j in range(len(rules)):\n",
        "      if rules[j][0] == solucion[i]:\n",
        "        auxB[j]+=1\n",
        "      if auxB[j]== 1:\n",
        "        if rules[j][1] == solucion[i]:\n",
        "          auxB[j]+=1\n",
        "  for i in range(len(auxB)):\n",
        "    if auxB[i] <2:\n",
        "      cont +=1\n",
        "  return cont"
      ],
      "metadata": {
        "id": "Ro2rHWv7FAAD"
      },
      "execution_count": null,
      "outputs": []
    },
    {
      "cell_type": "code",
      "source": [
        "def solucionInicial(numNodos,reglas):\n",
        "    solucionTemp = []\n",
        "    solucion = []\n",
        "    #generacion de numeros aleatorios con su indice para obtener la primera solucion\n",
        "    for i in range(numNodos-2):\n",
        "        solucionTemp.append([i+1,random.random()])\n",
        "    #Se reordenan para poder decidir en que orden visitar los nodos\n",
        "    solucionTemp.sort(key=itemgetter(1))\n",
        "    # El primero nodo debe ser siempre el cero\n",
        "    solucion.append(0)\n",
        "    #agregar los demas nodos\n",
        "    for i in list(solucionTemp):\n",
        "        solucion.append(i[0])\n",
        "    #El ultimo nodo debe ser numNodos-1\n",
        "    solucion.append(numNodos-1)\n",
        "    solucion = corregirPrecedencia(solucion[:],reglas,numNodos)\n",
        "    return solucion"
      ],
      "metadata": {
        "id": "b4QADTz_FKxJ"
      },
      "execution_count": null,
      "outputs": []
    },
    {
      "cell_type": "code",
      "source": [
        "def solucionVecino(solucion,reglas):\n",
        "    #generar las posiciones a cambiar\n",
        "    pos1 = random.randint(1,len(solucion)-2)\n",
        "    pos2 = random.randint(1,len(solucion)-2)\n",
        "    while (pos1 == pos2):\n",
        "        pos2 = random.randint(1,len(solucion)-2)\n",
        "    #print(pos1, ',', pos2)\n",
        "    #Relizamos el cambio de acuerdo a los indices \n",
        "    solucion[pos1],solucion[pos2] = solucion[pos2],solucion[pos1]\n",
        "    solucion = corregirPrecedencia(solucion[:],reglas,len(solucion))\n",
        "    return solucion"
      ],
      "metadata": {
        "id": "CYYWJPqjFQAh"
      },
      "execution_count": null,
      "outputs": []
    },
    {
      "cell_type": "code",
      "source": [
        "def corregirPrecedencia(solucion, reglas, numNodos):\n",
        "    # Se recorre la lista de reglas\n",
        "    for regla in reglas:\n",
        "        nodoA = regla[0]\n",
        "        nodoB = regla[1]\n",
        "\n",
        "        # Se busca la posición de los nodos en la solución actual\n",
        "        posA = solucion.index(nodoA)\n",
        "        posB = solucion.index(nodoB)\n",
        "\n",
        "        # Si la posición de B es menor que la de A, se intercambian los nodos\n",
        "        if posB < posA:\n",
        "            solucion[posA], solucion[posB] = solucion[posB], solucion[posA]\n",
        "\n",
        "    # Se verifica que la solución corregida contenga todos los nodos\n",
        "    assert set(solucion) == set(range(numNodos))\n",
        "\n",
        "    return solucion\n"
      ],
      "metadata": {
        "id": "p_IQJA0rF_1A"
      },
      "execution_count": null,
      "outputs": []
    },
    {
      "cell_type": "code",
      "source": [
        "def readFile(size, name):\n",
        "    m = np.zeros((0), dtype=int)\n",
        "    m_prec = np.zeros((0), dtype=int)\n",
        "    \n",
        "    with open(name, newline='') as File:  \n",
        "        reader = csv.reader(File, delimiter=',', quotechar=',',quoting=csv.QUOTE_MINIMAL)\n",
        "        i=0\n",
        "        for row in File:\n",
        "            \n",
        "            row = row.rstrip()\n",
        "            separador = \",\"\n",
        "            row = row.split(\",\")\n",
        "            row = list(map(int, row))\n",
        "            m_np = np.array(row)\n",
        "            \n",
        "            if i < size :\n",
        "                m = np.append(m, m_np, axis=0)\n",
        "                #print(m_np)\n",
        "            else:\n",
        "                m_prec = np.append(m_prec, m_np, axis=0)\n",
        "            i+=1\n",
        "    \n",
        "    m = np.array(m).reshape(size,size)\n",
        "    m_prec = np.array(m_prec).reshape(int((len(m_prec)/2)),2)\n",
        "    return m, m_prec"
      ],
      "metadata": {
        "id": "gop3dNOEFenH"
      },
      "execution_count": null,
      "outputs": []
    },
    {
      "cell_type": "code",
      "source": [
        "name = '100.txt'\n",
        "nodos = 100\n",
        "m, m_prec = readFile(nodos, name)\n",
        "\n",
        "print(f'{m}')\n"
      ],
      "metadata": {
        "colab": {
          "base_uri": "https://localhost:8080/"
        },
        "id": "-a-7wwvWHki_",
        "outputId": "bccea2ea-f4ec-4276-e3fa-a150b6a077c0"
      },
      "execution_count": null,
      "outputs": [
        {
          "output_type": "stream",
          "name": "stdout",
          "text": [
            "[[19  8 13 ...  2  2  4]\n",
            " [ 2  6  3 ... 10  8  6]\n",
            " [ 3 14 10 ... 20 13 11]\n",
            " ...\n",
            " [13 10 14 ... 18 19 20]\n",
            " [ 3 13 16 ...  0  0 18]\n",
            " [ 8  1  0 ...  4  0 12]]\n"
          ]
        }
      ]
    },
    {
      "cell_type": "code",
      "source": [
        "print(m_prec)"
      ],
      "metadata": {
        "id": "SWXwMhmKM-Pi",
        "colab": {
          "base_uri": "https://localhost:8080/"
        },
        "outputId": "4e61e169-3bad-4511-a83d-7c599cf4ac39"
      },
      "execution_count": null,
      "outputs": [
        {
          "output_type": "stream",
          "name": "stdout",
          "text": [
            "[[ 1  3]\n",
            " [ 1  4]\n",
            " [ 1 13]\n",
            " [ 8  7]\n",
            " [15 22]\n",
            " [48 49]]\n"
          ]
        }
      ]
    },
    {
      "cell_type": "markdown",
      "source": [
        "Una implementación con busqueda exhaustiva"
      ],
      "metadata": {
        "id": "U-ebYiE2N0Pm"
      }
    },
    {
      "cell_type": "code",
      "source": [
        "a = solucionInicial(100, m_prec)\n",
        "print (obtenerCosto(a, m, m_prec))\n",
        "c = solucionVecino(a,m_prec)\n",
        "print(c)"
      ],
      "metadata": {
        "colab": {
          "base_uri": "https://localhost:8080/"
        },
        "id": "1y8UkYrbPaq6",
        "outputId": "14f5bf8f-cfee-4976-86de-f64133021b5c"
      },
      "execution_count": null,
      "outputs": [
        {
          "output_type": "stream",
          "name": "stdout",
          "text": [
            "994\n",
            "[0, 17, 79, 29, 86, 12, 93, 84, 20, 56, 2, 26, 8, 68, 41, 28, 18, 91, 15, 95, 14, 71, 52, 1, 72, 30, 16, 38, 59, 89, 69, 90, 31, 64, 55, 66, 54, 39, 32, 40, 7, 74, 57, 24, 13, 37, 10, 76, 61, 67, 53, 34, 97, 80, 65, 25, 70, 82, 94, 35, 11, 88, 3, 96, 83, 60, 43, 45, 44, 50, 33, 9, 36, 58, 22, 62, 81, 23, 47, 75, 6, 77, 92, 4, 42, 63, 21, 48, 87, 85, 78, 19, 46, 98, 73, 51, 49, 27, 5, 99]\n"
          ]
        }
      ]
    },
    {
      "cell_type": "code",
      "source": [
        "def local_search(cost_matrix, reglas, numNodos, max_iterations):\n",
        "    # Algoritmo de búsqueda local para el SO con matriz de costos\n",
        "    \n",
        "    best_seq = solucionInicial(numNodos, reglas)\n",
        "    best_cost = obtenerCosto(best_seq, cost_matrix, reglas )\n",
        "    for i in range(max_iterations):\n",
        "        # Intercambia  nodos aleatorios en la secuencia\n",
        "        new_sol = solucionVecino(best_seq, reglas)\n",
        "        # Calcula el costo de la nueva secuencia\n",
        "        cost = obtenerCosto(new_sol,cost_matrix,reglas)\n",
        "        # Si la nueva secuencia es mejor, actualiza la mejor solución\n",
        "        if cost < best_cost:\n",
        "            best_seq = new_sol.copy()\n",
        "            best_cost = cost\n",
        "    return best_seq, best_cost"
      ],
      "metadata": {
        "id": "icjUSmXfNzlU"
      },
      "execution_count": null,
      "outputs": []
    },
    {
      "cell_type": "code",
      "source": [
        "best_seq, best_cost = local_search(m, m_prec, 100, 10000)\n",
        "\n",
        "print (f'El mejor costo es {best_cost} con la siguiente secuencia \\n{best_seq}')"
      ],
      "metadata": {
        "colab": {
          "base_uri": "https://localhost:8080/"
        },
        "id": "Xpgm0wXGU4Up",
        "outputId": "4773ba7f-6412-450d-aa75-c84e79e7cfb0"
      },
      "execution_count": null,
      "outputs": [
        {
          "output_type": "stream",
          "name": "stdout",
          "text": [
            "El mejor costo es 747 con la siguiente secuencia \n",
            "[0, 3, 86, 66, 41, 52, 31, 32, 97, 91, 49, 77, 69, 8, 68, 29, 6, 57, 17, 34, 15, 70, 44, 33, 18, 12, 92, 10, 1, 19, 51, 37, 13, 80, 26, 74, 87, 48, 2, 20, 96, 55, 93, 90, 42, 89, 72, 79, 61, 7, 21, 16, 22, 4, 58, 36, 40, 56, 84, 78, 76, 85, 50, 82, 14, 95, 73, 28, 75, 83, 94, 9, 81, 27, 5, 60, 59, 23, 47, 53, 65, 45, 67, 30, 43, 46, 63, 38, 39, 64, 88, 24, 71, 62, 35, 11, 98, 25, 54, 99]\n"
          ]
        }
      ]
    },
    {
      "cell_type": "markdown",
      "source": [],
      "metadata": {
        "id": "BxYjPsyxEve2"
      }
    }
  ]
}