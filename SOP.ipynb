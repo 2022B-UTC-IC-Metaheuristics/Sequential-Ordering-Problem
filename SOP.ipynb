{
 "cells": [
  {
   "cell_type": "code",
   "execution_count": 34,
   "metadata": {},
   "outputs": [],
   "source": [
    "import numpy as np\n",
    "import csv\n",
    "from simulated_annealing import SAnnealing as RecocidoSimulado\n",
    "import random\n",
    "import matplotlib.pyplot as plt\n",
    "import time\n"
   ]
  },
  {
   "cell_type": "code",
   "execution_count": 35,
   "metadata": {},
   "outputs": [],
   "source": [
    "def readFile(size, name):\n",
    "    m = np.zeros((0), dtype=int)\n",
    "    m_prec = np.zeros((0), dtype=int)\n",
    "    \n",
    "    with open(name, newline='') as File:  \n",
    "        reader = csv.reader(File, delimiter=',', quotechar=',',quoting=csv.QUOTE_MINIMAL)\n",
    "        i=0\n",
    "        for row in File:\n",
    "            \n",
    "            row = row.rstrip()\n",
    "            separador = \",\"\n",
    "            row = row.split(\",\")\n",
    "            row = list(map(int, row))\n",
    "            m_np = np.array(row)\n",
    "            \n",
    "            if i < size :\n",
    "                m = np.append(m, m_np, axis=0)\n",
    "                #print(m_np)\n",
    "            else:\n",
    "                m_prec = np.append(m_prec, m_np, axis=0)\n",
    "            i+=1\n",
    "    \n",
    "    m = np.array(m).reshape(size,size)\n",
    "    m_prec = np.array(m_prec).reshape(int((len(m_prec)/2)),2)\n",
    "    return m, m_prec    "
   ]
  },
  {
   "cell_type": "code",
   "execution_count": 36,
   "metadata": {},
   "outputs": [],
   "source": [
    "def _sol_inicial(numero_nodos) -> []:\n",
    "    rango_numeros = range(1, numero_nodos ) \n",
    "    cantidad_elementos = numero_nodos - 2\n",
    "\n",
    "    sol_inicial = random.sample(rango_numeros, cantidad_elementos) \n",
    "    return sol_inicial \n",
    " "
   ]
  },
  {
   "cell_type": "code",
   "execution_count": 37,
   "metadata": {},
   "outputs": [],
   "source": [
    "def verificacion_reglas(REGLAS_PRESEDENCIA:[],SOLUCION:[])->bool:\n",
    "\n",
    "    for NODO in REGLAS_PRESEDENCIA:\n",
    "    # Recorrido de solucion\n",
    "\n",
    "        for indice_estado_siguiente in range(len(SOLUCION)):\n",
    "                        \n",
    "            if indice_estado_siguiente > 0 :\n",
    "                        \n",
    "                indice_estado_anterios = indice_estado_siguiente -1\n",
    "                nodo_dependencias = ([SOLUCION[indice_estado_anterios],SOLUCION[indice_estado_siguiente] ] ) \n",
    "                        \n",
    "                if (np.array(nodo_dependencias) == np.array(NODO)).all() :\n",
    "                    return True\n",
    "                    \n",
    "    return False"
   ]
  },
  {
   "cell_type": "code",
   "execution_count": 38,
   "metadata": {},
   "outputs": [],
   "source": [
    " \n",
    "def _sol_vecina(SOLUCION: []) -> []: \n",
    "                     \n",
    "    rango_numeros = range(1, 100 - 2)  \n",
    "     \n",
    "    SOLUCION_AUX = SOLUCION[:]    \n",
    "    indx1 = random.choice(rango_numeros)  \n",
    "    indx2 = random.choice(rango_numeros)  \n",
    "    SOLUCION_AUX[indx1], SOLUCION_AUX[indx2] = SOLUCION[indx2], SOLUCION[indx1]  \n",
    "  \n",
    "\n",
    "    return SOLUCION_AUX\n",
    "\n",
    "    \n",
    "        \n"
   ]
  },
  {
   "cell_type": "code",
   "execution_count": 39,
   "metadata": {},
   "outputs": [],
   "source": [
    "def _inicializacion(tamanio:int)->[]:\n",
    "     \n",
    "    solucion_inicial = random.sample(range(1, tamanio-1), tamanio-2)\n",
    "    solucion_inicial.insert(0,0)\n",
    "    solucion_inicial.insert(tamanio,tamanio-1)\n",
    "\n",
    "    return solucion_inicial"
   ]
  },
  {
   "cell_type": "code",
   "execution_count": 40,
   "metadata": {},
   "outputs": [],
   "source": [
    "def forzar_cumprimiento_reglas(REGLAS_PRESEDENCIA:[], SOLUCION:[], COSTOS:[])->[]:\n",
    "\n",
    "    solucion_inicial  = verificacion_reglas(REGLAS_PRESEDENCIA , SOLUCION)\n",
    "\n",
    "    while(solucion_inicial):\n",
    "    \n",
    "        SOLUCION = _inicializacion(len(SOLUCION))\n",
    "        solucion_inicial = verificacion_reglas(REGLAS_PRESEDENCIA , SOLUCION)\n",
    "    \n",
    "    return SOLUCION"
   ]
  },
  {
   "cell_type": "code",
   "execution_count": 41,
   "metadata": {},
   "outputs": [],
   "source": [
    "def _cost(SOLUCION:[], COSTOS:[], REGLAS_PRESEDENCIA)->float:\n",
    "\n",
    "        costo_solucion = 0 \n",
    "        \n",
    "        indice_estado_anterior = 0\n",
    "        for indice_estado_siguiente in SOLUCION: \n",
    "                 \n",
    "            if indice_estado_siguiente > 0: \n",
    "                peso = COSTOS[indice_estado_anterior][indice_estado_siguiente] \n",
    "                costo_solucion += peso if peso != 0  else 100 \n",
    "\n",
    "                for tupla_reglas in REGLAS_PRESEDENCIA:\n",
    "                     \n",
    "                     ARREGLO_REGLAS = list(tupla_reglas) \n",
    "\n",
    "                     if [indice_estado_anterior,indice_estado_siguiente] ==  ARREGLO_REGLAS : \n",
    "                         \n",
    "                        costo_solucion += 100 \n",
    "\n",
    "                indice_estado_anterior = indice_estado_siguiente \n",
    "\n",
    "        return costo_solucion"
   ]
  },
  {
   "cell_type": "code",
   "execution_count": 42,
   "metadata": {},
   "outputs": [],
   "source": [
    "def SOP(COSTOS, REGLAS_PRESEDENCIA) -> []:  \n",
    "    SOLUCION = _inicializacion(100)\n",
    "    SOLUCION = forzar_cumprimiento_reglas(REGLAS_PRESEDENCIA, SOLUCION, COSTOS)  \n",
    "    SAnnealing = RecocidoSimulado(step=0.01,final_temperature=0.1, temperature= 5000,alpha=0.95,equilibrium=10,domain=COSTOS)\n",
    "    resultado = SAnnealing.fit(objetive=_cost,first=_inicializacion,neighbor=_sol_vecina,COSTOS=COSTOS, REGLAS_PRESEDENCIA=REGLAS_PRESEDENCIA, SOLUCION=SOLUCION) \n",
    "\n",
    "    plt.plot(range(len(SAnnealing.cost_)), [x[1] for x in SAnnealing.cost_ ])\n",
    "    plt.show()\n",
    "\n",
    "    "
   ]
  },
  {
   "cell_type": "markdown",
   "metadata": {},
   "source": [
    "SOP()"
   ]
  },
  {
   "cell_type": "code",
   "execution_count": 43,
   "metadata": {},
   "outputs": [],
   "source": [
    "nombre = './Instancias/txt/100.txt'\n",
    "numero_nodos = 100\n",
    "COSTOS, REGLAS_PRESEDENCIA = readFile(numero_nodos, nombre) "
   ]
  },
  {
   "cell_type": "code",
   "execution_count": 44,
   "metadata": {},
   "outputs": [
    {
     "data": {
      "image/png": "[encoded data removed]",
      "text/plain": [
       "<Figure size 640x480 with 1 Axes>"
      ]
     },
     "metadata": {},
     "output_type": "display_data"
    },
    {
     "name": "stdout",
     "output_type": "stream",
     "text": [
      "Tiempo de ejecución: 2.09474778175354\n"
     ]
    }
   ],
   "source": [
    "inicio = time.time()\n",
    "\n",
    "SOP(COSTOS, REGLAS_PRESEDENCIA)\n",
    "\n",
    "fin = time.time()\n",
    "tiempo_ejecucion = fin - inicio\n",
    "print(\"Tiempo de ejecución:\", tiempo_ejecucion)"
   ]
  }
 ],
 "metadata": {
  "kernelspec": {
   "display_name": "Python 3",
   "language": "python",
   "name": "python3"
  },
  "language_info": {
   "codemirror_mode": {
    "name": "ipython",
    "version": 3
   },
   "file_extension": ".py",
   "mimetype": "text/x-python",
   "name": "python",
   "nbconvert_exporter": "python",
   "pygments_lexer": "ipython3",
   "version": "3.11.9"
  }
 },
 "nbformat": 4,
 "nbformat_minor": 2
}
