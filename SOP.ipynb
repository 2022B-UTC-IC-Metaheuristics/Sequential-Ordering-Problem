{
  "nbformat": 4,
  "nbformat_minor": 0,
  "metadata": {
    "colab": {
      "provenance": []
    },
    "kernelspec": {
      "name": "python3",
      "display_name": "Python 3"
    },
    "language_info": {
      "name": "python"
    }
  },
  "cells": [
    {
      "cell_type": "markdown",
      "source": [
        "Vamos a revisar los ejercicios de Sequential ordering problem\n"
      ],
      "metadata": {
        "id": "uPGIeyD-3MQi"
      }
    },
    {
      "cell_type": "markdown",
      "source": [
        "## Función objetivos\n",
        "\n",
        "La funcion objetivo para el SOP se define como $∑ C_{ij} + (n * penalización)$.\n",
        "\n",
        "Donde la *penalización* será igual al costo mayor de todas las matriz de costos *n* representa el número de reglas de precedencia que no se cumplen.\n",
        "\n",
        "El siguiente fragmento de código indica el proceso para calcular el valor de la función objetivo."
      ],
      "metadata": {
        "id": "rBwckG1E3gHh"
      }
    },
    {
      "cell_type": "code",
      "source": [
        "import numpy as np\n",
        "import random\n"
      ],
      "metadata": {
        "id": "Mmz75QtGrU6N"
      },
      "execution_count": null,
      "outputs": []
    },
    {
      "cell_type": "code",
      "source": [
        "#funcion para obtener el costo\n",
        "\n",
        "def obtenerCosto (solucion, costos, reglas):\n",
        "  #obtener el total de nodos -1 (no es necesario revisar el ultimo nodo)\n",
        "  nodos = len(solucion) -1\n",
        "\n",
        "  #se obtine el costo máximode la tabla\n",
        "  costoMax = max (max(fila) for fila in a)\n",
        "  costoTotal = 0\n",
        "\n",
        "  #se suman los costos C de la solución\n",
        "  for i in range(nodos):\n",
        "    costoTotal += costos[solucion[i]][solucion[i+1]]\n",
        "  n =  presedencia(solucion, reglas)\n",
        "  costoTotal += n* costoMax  "
      ],
      "metadata": {
        "id": "EbjYqZYO3Wn4"
      },
      "execution_count": null,
      "outputs": []
    },
    {
      "cell_type": "markdown",
      "source": [
        "Para revisar las precedencias se utilizó la siguiente función"
      ],
      "metadata": {
        "id": "gc1eY3ZS8s_o"
      }
    },
    {
      "cell_type": "code",
      "source": [
        "def presedencia(solucion, rules):\n",
        "  #tiene que variar estos arreglos dependiendo de la cantidad de reglas\n",
        "  auxB = np.zeros(len(rules))\n",
        "  cont = 0\n",
        "\n",
        "  for i in range (len(solucion)):\n",
        "    for j in range(len(rules)):\n",
        "      if rules[j][0] == solucion[i]:\n",
        "        auxB[j]+=1\n",
        "      if auxB[j]== 1:\n",
        "        if rules[j][1] == solucion[i]:\n",
        "          auxB[j]+=1\n",
        "  for i in range(len(auxB)):\n",
        "    if auxB[i] <2:\n",
        "      cont +=1\n",
        "  return cont"
      ],
      "metadata": {
        "id": "YXZY0OUv8y-P"
      },
      "execution_count": null,
      "outputs": []
    },
    {
      "cell_type": "markdown",
      "source": [
        "#### Restricciones \n",
        "La restricciones con las que cuentes este problema se dividen en dos:\n",
        "\n",
        "\n",
        "1.   Las reglas de precedencia son aquella que indican si un nodo debe visitarse antes que otro, la forma en la quese visitan no es necesariamente consecutiva. Se representa de la siguiente manera $i < j$\n",
        "2.    La solución que se genera debe iniciar vistando el nodo cero y debe terminar con el nodo N\n",
        "\n",
        "#### Representación de la solución \n",
        "Para poder genera la solución inicial, se debe de realizar los siguientes pasos:\n",
        "* Generar un arreglo de números aleatorios en un intervalo de $N -2$ números aleatorios en un intervalo de $[0,1]$.\n",
        "* Ordenar de forma ascendete el arreglo de acuerdo al valor.\n",
        "* Tomar los índices del arreglo ordenado para generar la solución inicial.\n",
        "* Por último para completar los nodos a visitar y cumplir con la segunda restricción se añade al inicio del arreglo el nodo $0$ y al final de nodo $N$\n",
        "\n"
      ],
      "metadata": {
        "id": "tyysFEaLrYTU"
      }
    },
    {
      "cell_type": "code",
      "source": [
        "def solucionInicial(numNodos,reglas):\n",
        "    solucionTemp = []\n",
        "    solucion = []\n",
        "    #generacion de numeros aleatorios con su indice para obtener la primera solucion\n",
        "    for i in range(numNodos-2):\n",
        "        solucionTemp.append([i+1,random.random()])\n",
        "    #Se reordenan para poder decidir en que orden visitar los nodos\n",
        "    solucionTemp.sort(key=itemgetter(1))\n",
        "    # El primero nodo debe ser siempre el cero\n",
        "    solucion.append(0)\n",
        "    #agregar los demas nodos\n",
        "    for i in list(solucionTemp):\n",
        "        solucion.append(i[0])\n",
        "    #El ultimo nodo debe ser numNodos-1\n",
        "    solucion.append(numNodos-1)\n",
        "    solucion = corregirPrecedencia(solucion[:],reglas,numNodos)\n",
        "    return solucion"
      ],
      "metadata": {
        "id": "2I4Qih6CuS8Q"
      },
      "execution_count": null,
      "outputs": []
    },
    {
      "cell_type": "code",
      "source": [
        "#solucion vecino\n",
        "\n",
        "def solucionVecino(solucion,reglas):\n",
        "    #generar las posiciones a cambiar\n",
        "    pos1 = random.randint(1,len(solucion)-2)\n",
        "    pos2 = random.randint(1,len(solucion)-2)\n",
        "    while (pos1 == pos2):\n",
        "        pos2 = random.randint(1,len(solucion)-2)\n",
        "    #print(pos1, ',', pos2)\n",
        "    #Relizamos el cambio de acuerdo a los indices \n",
        "    solucion[pos1],solucion[pos2] = solucion[pos2],solucion[pos1]\n",
        "    solucion = corregirPrecedencia(solucion[:],reglas,len(solucion))\n",
        "    return solucion"
      ],
      "metadata": {
        "id": "bmwXOCKx0sCM"
      },
      "execution_count": null,
      "outputs": []
    },
    {
      "cell_type": "code",
      "source": [],
      "metadata": {
        "id": "ewhZqi880xVD"
      },
      "execution_count": null,
      "outputs": []
    },
    {
      "cell_type": "markdown",
      "source": [
        "Bueno no funcionó antes no creo que funcione ahora"
      ],
      "metadata": {
        "id": "xtldaQd2Dwmr"
      }
    },
    {
      "cell_type": "code",
      "source": [
        "def obj(seq, cost_matrix):\n",
        "    # Calcula la función objetivo para la secuencia dada\n",
        "    n = len(seq)\n",
        "    total_cost = 0\n",
        "    for i in range(n-1):\n",
        "        for j in range(i+1, n):\n",
        "            cost = cost_matrix[seq[i]][seq[j]]\n",
        "            dist = abs(i-j)\n",
        "            total_cost += cost * dist\n",
        "    return total_cost\n"
      ],
      "metadata": {
        "id": "GtqHRbfTDwBW"
      },
      "execution_count": null,
      "outputs": []
    },
    {
      "cell_type": "code",
      "source": [
        "def create_cost_matrix(edges, n):\n",
        "    # Crea una matriz de costos a partir de una lista de aristas\n",
        "    cost_matrix = [[float('inf')] * n for i in range(n)]\n",
        "    for u, v, cost in edges:\n",
        "        cost_matrix[u][v] = cost\n",
        "    return cost_matrix"
      ],
      "metadata": {
        "id": "jM6P0vipD2Xs"
      },
      "execution_count": null,
      "outputs": []
    },
    {
      "cell_type": "code",
      "source": [
        "def create_edges(cost_matrix):\n",
        "    # Crea una lista de aristas a partir de una matriz de costos\n",
        "    n = len(cost_matrix)\n",
        "    edges = []\n",
        "    for u in range(n):\n",
        "        for v in range(n):\n",
        "            if cost_matrix[u][v] != float('inf'):\n",
        "                edges.append((u, v, cost_matrix[u][v]))\n",
        "    return edges\n"
      ],
      "metadata": {
        "id": "bshfoabbD7F6"
      },
      "execution_count": null,
      "outputs": []
    },
    {
      "cell_type": "code",
      "source": [
        "import random\n",
        "\n",
        "def local_search(cost_matrix, max_iterations):\n",
        "    # Algoritmo de búsqueda local para el SO con matriz de costos\n",
        "    n = len(cost_matrix)\n",
        "    seq = list(range(n)) #toma el numero nodos de forma secuencial como sequencia inicial [0, 1, ...., N]\n",
        "    best_seq = seq\n",
        "    best_cost = obj(seq, cost_matrix)\n",
        "    for i in range(max_iterations):\n",
        "        # Intercambia dos nodos aleatorios en la secuencia\n",
        "        u, v = random.sample(range(n), 2)\n",
        "        seq[u], seq[v] = seq[v], seq[u]\n",
        "        # Calcula el costo de la nueva secuencia\n",
        "        cost = obj(seq, cost_matrix)\n",
        "        # Si la nueva secuencia es mejor, actualiza la mejor solución\n",
        "        if cost < best_cost:\n",
        "            best_seq = seq.copy()\n",
        "            best_cost = cost\n",
        "    return best_seq, best_cost"
      ],
      "metadata": {
        "id": "y_Ru71DzEKo0"
      },
      "execution_count": null,
      "outputs": []
    },
    {
      "cell_type": "markdown",
      "source": [
        "En teoría tenemos todos los ingredientes para cocinar el algoritmo bien sabroso"
      ],
      "metadata": {
        "id": "zyG6TR49RYFb"
      }
    },
    {
      "cell_type": "code",
      "source": [
        "#haremos una matriz pequeña  como ejemplo de como funciona\n",
        "edges = [(0, 1, 2), (0, 2, 3), (1, 2, 1), (1, 3, 4), (2, 3, 2)]\n",
        "n = 4\n",
        "        \n",
        "costMatrix = create_cost_matrix(edges, n)\n",
        "\n"
      ],
      "metadata": {
        "id": "GJlxpDdrEbyn"
      },
      "execution_count": null,
      "outputs": []
    },
    {
      "cell_type": "code",
      "source": [
        "#hacemos 5 iteraciones para probar resultados\n",
        "\n",
        "best_seq,best_cost = local_search(costMatrix, max_iterations= 100000)\n",
        "print (f'The best cost found it was {best_cost} with this sequence {best_seq}')"
      ],
      "metadata": {
        "colab": {
          "base_uri": "https://localhost:8080/"
        },
        "id": "uikAVZdPVqc0",
        "outputId": "9fedc0b8-a10a-4bb9-c85c-61504cf9676c"
      },
      "execution_count": null,
      "outputs": [
        {
          "output_type": "stream",
          "name": "stdout",
          "text": [
            "The best cost found it was inf with this sequence [2, 0, 1, 3]\n"
          ]
        }
      ]
    },
    {
      "cell_type": "markdown",
      "source": [
        "Intentemos una nueva ejecución pero con un grafo de 10 nodos con pesos diferentes"
      ],
      "metadata": {
        "id": "d6XGj7nZbdZ2"
      }
    },
    {
      "cell_type": "code",
      "source": [
        "n = 10  # número de nodos\n",
        "\n",
        "# Generar aristas con pesos aleatorios\n",
        "edges = []\n",
        "for i in range(n):\n",
        "    for j in range(n):\n",
        "        if i != j:\n",
        "            cost = random.randint(1, 10)\n",
        "            edges.append((i, j, cost))\n",
        "\n",
        "print (len(edges))"
      ],
      "metadata": {
        "colab": {
          "base_uri": "https://localhost:8080/"
        },
        "id": "CVxbCUYObkHV",
        "outputId": "2ebeaf0e-bff7-488f-9746-206cfe71968c"
      },
      "execution_count": null,
      "outputs": [
        {
          "output_type": "stream",
          "name": "stdout",
          "text": [
            "90\n"
          ]
        }
      ]
    },
    {
      "cell_type": "code",
      "source": [
        "costMatrix = create_cost_matrix(edges, n)\n",
        "\n",
        "import time\n",
        "saveTime = time.time()\n",
        "best_seq,best_cost = local_search(costMatrix, max_iterations= 100000)\n",
        "print (f'The best cost found it was {best_cost} with this sequence {best_seq} with {time.time()-saveTime} seconds')"
      ],
      "metadata": {
        "id": "D9EWd27-b6Vx"
      },
      "execution_count": null,
      "outputs": []
    }
  ]
}